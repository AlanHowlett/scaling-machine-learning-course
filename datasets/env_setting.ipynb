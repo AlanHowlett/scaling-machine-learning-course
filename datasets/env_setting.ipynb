{
 "cells": [
  {
   "cell_type": "markdown",
   "id": "8fe55cfa",
   "metadata": {},
   "source": [
    "## random yet useful commands "
   ]
  },
  {
   "cell_type": "code",
   "execution_count": 6,
   "id": "088f4c46",
   "metadata": {},
   "outputs": [],
   "source": [
    "import zipfile\n",
    "with zipfile.ZipFile(\"/some/zip/to/extract.zip\",\"r\") as zip_ref:\n",
    "    zip_ref.extractall(\"/folder/to/extract/to\")"
   ]
  },
  {
   "cell_type": "code",
   "execution_count": 8,
   "id": "52236328",
   "metadata": {},
   "outputs": [],
   "source": [
    "import shutil\n",
    "shutil.rmtree('/path/to/delete')"
   ]
  },
  {
   "cell_type": "code",
   "execution_count": null,
   "id": "20c55f57",
   "metadata": {},
   "outputs": [],
   "source": []
  }
 ],
 "metadata": {
  "kernelspec": {
   "display_name": "Python 3",
   "language": "python",
   "name": "python3"
  },
  "language_info": {
   "codemirror_mode": {
    "name": "ipython",
    "version": 3
   },
   "file_extension": ".py",
   "mimetype": "text/x-python",
   "name": "python",
   "nbconvert_exporter": "python",
   "pygments_lexer": "ipython3",
   "version": "3.9.4"
  }
 },
 "nbformat": 4,
 "nbformat_minor": 5
}
